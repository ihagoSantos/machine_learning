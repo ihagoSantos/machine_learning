{
  "nbformat": 4,
  "nbformat_minor": 0,
  "metadata": {
    "colab": {
      "provenance": [],
      "authorship_tag": "ABX9TyO3gJ9SdXsfJ8u2fMgAQSf3",
      "include_colab_link": true
    },
    "kernelspec": {
      "name": "python3",
      "display_name": "Python 3"
    },
    "language_info": {
      "name": "python"
    }
  },
  "cells": [
    {
      "cell_type": "markdown",
      "metadata": {
        "id": "view-in-github",
        "colab_type": "text"
      },
      "source": [
        "<a href=\"https://colab.research.google.com/github/ihagoSantos/machine_learning/blob/main/data_transformation.ipynb\" target=\"_parent\"><img src=\"https://colab.research.google.com/assets/colab-badge.svg\" alt=\"Open In Colab\"/></a>"
      ]
    },
    {
      "cell_type": "markdown",
      "source": [
        "# Importação e configuração de bibliotecas"
      ],
      "metadata": {
        "id": "vJW04E4BoWht"
      }
    },
    {
      "cell_type": "code",
      "execution_count": 1,
      "metadata": {
        "id": "MzODV724nN_z"
      },
      "outputs": [],
      "source": [
        "import numpy as np # usada para processamento numérico\n",
        "import pandas as pd # usada para manipulação de bases de dados\n",
        "import matplotlib.pyplot as plt # usada para visualização de dados\n",
        "import seaborn as sns # usada para visualização de dados\n",
        "\n",
        "from sklearn.model_selection import train_test_split\n",
        "from sklearn import preprocessing\n",
        "from sklearn.linear_model import LinearRegression"
      ]
    },
    {
      "cell_type": "code",
      "source": [
        "# Configuração de visualização\n",
        "np.set_printoptions(threshold=None, precision=2)\n",
        "\n",
        "pd.set_option('display.max_columns', 500)\n",
        "pd.set_option('display.max_rows', 500)\n",
        "pd.set_option('display.precision', 2)"
      ],
      "metadata": {
        "id": "k1zrUSv8nmXg"
      },
      "execution_count": 2,
      "outputs": []
    },
    {
      "cell_type": "markdown",
      "source": [
        "# Base de dados do Titanic"
      ],
      "metadata": {
        "id": "tBuxoM4bob76"
      }
    },
    {
      "cell_type": "code",
      "source": [
        "from google.colab import files\n",
        "\n",
        "uploaded = files.upload()"
      ],
      "metadata": {
        "colab": {
          "base_uri": "https://localhost:8080/",
          "height": 73
        },
        "id": "9HqLykZZn4A8",
        "outputId": "0be020d3-1a4f-4115-ada4-385b71c7d2bc"
      },
      "execution_count": 3,
      "outputs": [
        {
          "output_type": "display_data",
          "data": {
            "text/plain": [
              "<IPython.core.display.HTML object>"
            ],
            "text/html": [
              "\n",
              "     <input type=\"file\" id=\"files-54ebc987-743d-401f-ad5f-104821998f17\" name=\"files[]\" multiple disabled\n",
              "        style=\"border:none\" />\n",
              "     <output id=\"result-54ebc987-743d-401f-ad5f-104821998f17\">\n",
              "      Upload widget is only available when the cell has been executed in the\n",
              "      current browser session. Please rerun this cell to enable.\n",
              "      </output>\n",
              "      <script>// Copyright 2017 Google LLC\n",
              "//\n",
              "// Licensed under the Apache License, Version 2.0 (the \"License\");\n",
              "// you may not use this file except in compliance with the License.\n",
              "// You may obtain a copy of the License at\n",
              "//\n",
              "//      http://www.apache.org/licenses/LICENSE-2.0\n",
              "//\n",
              "// Unless required by applicable law or agreed to in writing, software\n",
              "// distributed under the License is distributed on an \"AS IS\" BASIS,\n",
              "// WITHOUT WARRANTIES OR CONDITIONS OF ANY KIND, either express or implied.\n",
              "// See the License for the specific language governing permissions and\n",
              "// limitations under the License.\n",
              "\n",
              "/**\n",
              " * @fileoverview Helpers for google.colab Python module.\n",
              " */\n",
              "(function(scope) {\n",
              "function span(text, styleAttributes = {}) {\n",
              "  const element = document.createElement('span');\n",
              "  element.textContent = text;\n",
              "  for (const key of Object.keys(styleAttributes)) {\n",
              "    element.style[key] = styleAttributes[key];\n",
              "  }\n",
              "  return element;\n",
              "}\n",
              "\n",
              "// Max number of bytes which will be uploaded at a time.\n",
              "const MAX_PAYLOAD_SIZE = 100 * 1024;\n",
              "\n",
              "function _uploadFiles(inputId, outputId) {\n",
              "  const steps = uploadFilesStep(inputId, outputId);\n",
              "  const outputElement = document.getElementById(outputId);\n",
              "  // Cache steps on the outputElement to make it available for the next call\n",
              "  // to uploadFilesContinue from Python.\n",
              "  outputElement.steps = steps;\n",
              "\n",
              "  return _uploadFilesContinue(outputId);\n",
              "}\n",
              "\n",
              "// This is roughly an async generator (not supported in the browser yet),\n",
              "// where there are multiple asynchronous steps and the Python side is going\n",
              "// to poll for completion of each step.\n",
              "// This uses a Promise to block the python side on completion of each step,\n",
              "// then passes the result of the previous step as the input to the next step.\n",
              "function _uploadFilesContinue(outputId) {\n",
              "  const outputElement = document.getElementById(outputId);\n",
              "  const steps = outputElement.steps;\n",
              "\n",
              "  const next = steps.next(outputElement.lastPromiseValue);\n",
              "  return Promise.resolve(next.value.promise).then((value) => {\n",
              "    // Cache the last promise value to make it available to the next\n",
              "    // step of the generator.\n",
              "    outputElement.lastPromiseValue = value;\n",
              "    return next.value.response;\n",
              "  });\n",
              "}\n",
              "\n",
              "/**\n",
              " * Generator function which is called between each async step of the upload\n",
              " * process.\n",
              " * @param {string} inputId Element ID of the input file picker element.\n",
              " * @param {string} outputId Element ID of the output display.\n",
              " * @return {!Iterable<!Object>} Iterable of next steps.\n",
              " */\n",
              "function* uploadFilesStep(inputId, outputId) {\n",
              "  const inputElement = document.getElementById(inputId);\n",
              "  inputElement.disabled = false;\n",
              "\n",
              "  const outputElement = document.getElementById(outputId);\n",
              "  outputElement.innerHTML = '';\n",
              "\n",
              "  const pickedPromise = new Promise((resolve) => {\n",
              "    inputElement.addEventListener('change', (e) => {\n",
              "      resolve(e.target.files);\n",
              "    });\n",
              "  });\n",
              "\n",
              "  const cancel = document.createElement('button');\n",
              "  inputElement.parentElement.appendChild(cancel);\n",
              "  cancel.textContent = 'Cancel upload';\n",
              "  const cancelPromise = new Promise((resolve) => {\n",
              "    cancel.onclick = () => {\n",
              "      resolve(null);\n",
              "    };\n",
              "  });\n",
              "\n",
              "  // Wait for the user to pick the files.\n",
              "  const files = yield {\n",
              "    promise: Promise.race([pickedPromise, cancelPromise]),\n",
              "    response: {\n",
              "      action: 'starting',\n",
              "    }\n",
              "  };\n",
              "\n",
              "  cancel.remove();\n",
              "\n",
              "  // Disable the input element since further picks are not allowed.\n",
              "  inputElement.disabled = true;\n",
              "\n",
              "  if (!files) {\n",
              "    return {\n",
              "      response: {\n",
              "        action: 'complete',\n",
              "      }\n",
              "    };\n",
              "  }\n",
              "\n",
              "  for (const file of files) {\n",
              "    const li = document.createElement('li');\n",
              "    li.append(span(file.name, {fontWeight: 'bold'}));\n",
              "    li.append(span(\n",
              "        `(${file.type || 'n/a'}) - ${file.size} bytes, ` +\n",
              "        `last modified: ${\n",
              "            file.lastModifiedDate ? file.lastModifiedDate.toLocaleDateString() :\n",
              "                                    'n/a'} - `));\n",
              "    const percent = span('0% done');\n",
              "    li.appendChild(percent);\n",
              "\n",
              "    outputElement.appendChild(li);\n",
              "\n",
              "    const fileDataPromise = new Promise((resolve) => {\n",
              "      const reader = new FileReader();\n",
              "      reader.onload = (e) => {\n",
              "        resolve(e.target.result);\n",
              "      };\n",
              "      reader.readAsArrayBuffer(file);\n",
              "    });\n",
              "    // Wait for the data to be ready.\n",
              "    let fileData = yield {\n",
              "      promise: fileDataPromise,\n",
              "      response: {\n",
              "        action: 'continue',\n",
              "      }\n",
              "    };\n",
              "\n",
              "    // Use a chunked sending to avoid message size limits. See b/62115660.\n",
              "    let position = 0;\n",
              "    do {\n",
              "      const length = Math.min(fileData.byteLength - position, MAX_PAYLOAD_SIZE);\n",
              "      const chunk = new Uint8Array(fileData, position, length);\n",
              "      position += length;\n",
              "\n",
              "      const base64 = btoa(String.fromCharCode.apply(null, chunk));\n",
              "      yield {\n",
              "        response: {\n",
              "          action: 'append',\n",
              "          file: file.name,\n",
              "          data: base64,\n",
              "        },\n",
              "      };\n",
              "\n",
              "      let percentDone = fileData.byteLength === 0 ?\n",
              "          100 :\n",
              "          Math.round((position / fileData.byteLength) * 100);\n",
              "      percent.textContent = `${percentDone}% done`;\n",
              "\n",
              "    } while (position < fileData.byteLength);\n",
              "  }\n",
              "\n",
              "  // All done.\n",
              "  yield {\n",
              "    response: {\n",
              "      action: 'complete',\n",
              "    }\n",
              "  };\n",
              "}\n",
              "\n",
              "scope.google = scope.google || {};\n",
              "scope.google.colab = scope.google.colab || {};\n",
              "scope.google.colab._files = {\n",
              "  _uploadFiles,\n",
              "  _uploadFilesContinue,\n",
              "};\n",
              "})(self);\n",
              "</script> "
            ]
          },
          "metadata": {}
        },
        {
          "output_type": "stream",
          "name": "stdout",
          "text": [
            "Saving train.csv to train.csv\n"
          ]
        }
      ]
    },
    {
      "cell_type": "code",
      "source": [
        "titanic_train = pd.read_csv(next(iter(uploaded.keys())))\n",
        "\n",
        "print(\"Dimensões de Titanic: \\n{0}\\n\".format(titanic_train.shape))\n",
        "print(\"Campos de Titanic: \\n{0}\\n\".format(list(titanic_train.keys())))\n",
        "print(\"Tipos de dados: \\n{0}\\n\".format(titanic_train.dtypes))"
      ],
      "metadata": {
        "colab": {
          "base_uri": "https://localhost:8080/"
        },
        "id": "k2guSjo1p_cX",
        "outputId": "25e84506-7e1e-42e3-d0db-76ebf687bce0"
      },
      "execution_count": 4,
      "outputs": [
        {
          "output_type": "stream",
          "name": "stdout",
          "text": [
            "Dimensões de Titanic: \n",
            "(891, 12)\n",
            "\n",
            "Campos de Titanic: \n",
            "['PassengerId', 'Survived', 'Pclass', 'Name', 'Sex', 'Age', 'SibSp', 'Parch', 'Ticket', 'Fare', 'Cabin', 'Embarked']\n",
            "\n",
            "Tipos de dados: \n",
            "PassengerId      int64\n",
            "Survived         int64\n",
            "Pclass           int64\n",
            "Name            object\n",
            "Sex             object\n",
            "Age            float64\n",
            "SibSp            int64\n",
            "Parch            int64\n",
            "Ticket          object\n",
            "Fare           float64\n",
            "Cabin           object\n",
            "Embarked        object\n",
            "dtype: object\n",
            "\n"
          ]
        }
      ]
    },
    {
      "cell_type": "markdown",
      "source": [
        "# Estatística Descritiva dos Dados"
      ],
      "metadata": {
        "id": "9HXVkzKsrT9R"
      }
    },
    {
      "cell_type": "code",
      "source": [
        "# Exibe apenas os campos numéricos\n",
        "print(\"\\nDescrição dos campos numéricos:\\n\")\n",
        "print(titanic_train.describe())\n",
        "# survived: (0 = não, 1 = sim) -> foi considerado como numérico mas é categórico\n",
        "# Pclass: -> foi considerado como numérico mas é categórico\n",
        "\n",
        "# Para se ter uma visão dos atributos categóricos, os atributos não numéricos são descartados.\n",
        "print(\"\\n\\nDescrição dos campos não numéricos:\")\n",
        "categ = titanic_train.dtypes[titanic_train.dtypes == 'object'].index\n",
        "print(\"\\n\", titanic_train[categ].describe(), sep='\\n')"
      ],
      "metadata": {
        "colab": {
          "base_uri": "https://localhost:8080/"
        },
        "id": "DvwIhVvJqN_m",
        "outputId": "dafe5256-48d9-4ac6-fde7-115120fa4187"
      },
      "execution_count": 5,
      "outputs": [
        {
          "output_type": "stream",
          "name": "stdout",
          "text": [
            "\n",
            "Descrição dos campos numéricos:\n",
            "\n",
            "       PassengerId  Survived  Pclass     Age   SibSp   Parch    Fare\n",
            "count       891.00    891.00  891.00  714.00  891.00  891.00  891.00\n",
            "mean        446.00      0.38    2.31   29.70    0.52    0.38   32.20\n",
            "std         257.35      0.49    0.84   14.53    1.10    0.81   49.69\n",
            "min           1.00      0.00    1.00    0.42    0.00    0.00    0.00\n",
            "25%         223.50      0.00    2.00   20.12    0.00    0.00    7.91\n",
            "50%         446.00      0.00    3.00   28.00    0.00    0.00   14.45\n",
            "75%         668.50      1.00    3.00   38.00    1.00    0.00   31.00\n",
            "max         891.00      1.00    3.00   80.00    8.00    6.00  512.33\n",
            "\n",
            "\n",
            "Descrição dos campos não numéricos:\n",
            "\n",
            "\n",
            "                           Name   Sex  Ticket    Cabin Embarked\n",
            "count                       891   891     891      204      889\n",
            "unique                      891     2     681      147        3\n",
            "top     Braund, Mr. Owen Harris  male  347082  B96 B98        S\n",
            "freq                          1   577       7        4      644\n"
          ]
        }
      ]
    },
    {
      "cell_type": "markdown",
      "source": [
        "# Remoção de atributos irrelevantes"
      ],
      "metadata": {
        "id": "qyKrRWSCuRXv"
      }
    },
    {
      "cell_type": "code",
      "source": [
        "del titanic_train['PassengerId']\n",
        "del titanic_train['Ticket']\n",
        "\n",
        "# O número de atributos reduziu para 10\n",
        "print('Dimensões de Titanic: \\n{0}\\n'.format(titanic_train.shape))"
      ],
      "metadata": {
        "colab": {
          "base_uri": "https://localhost:8080/"
        },
        "id": "de-McCgFrblJ",
        "outputId": "3c7921e4-8da6-4e1a-c880-ef7ab3974809"
      },
      "execution_count": 6,
      "outputs": [
        {
          "output_type": "stream",
          "name": "stdout",
          "text": [
            "Dimensões de Titanic: \n",
            "(891, 10)\n",
            "\n"
          ]
        }
      ]
    },
    {
      "cell_type": "markdown",
      "source": [
        "# Transformação de Variáveis\n",
        "\n",
        "## Converter numérico em categórico"
      ],
      "metadata": {
        "id": "doEKHYjquyPf"
      }
    },
    {
      "cell_type": "code",
      "source": [
        "new_survived = pd.Categorical(titanic_train['Survived'])\n",
        "new_survived = new_survived.rename_categories(['Morreu', 'Sobrevivel'])\n",
        "titanic_train['Survived'] = new_survived\n",
        "\n",
        "new_Pclass = pd.Categorical(titanic_train['Pclass'], ordered=True)\n",
        "new_Pclass = new_Pclass.rename_categories([\"1aClasse\", \"2aClasse\", \"3aClasse\"])\n",
        "titanic_train['Pclass'] = new_Pclass\n",
        "\n",
        "print('Tipos de dados: \\n{0}\\n'.format(titanic_train.dtypes))\n",
        "categ = titanic_train.dtypes[titanic_train.dtypes == 'category'].index\n",
        "print('\\n', titanic_train[categ].describe(), sep='\\n')"
      ],
      "metadata": {
        "colab": {
          "base_uri": "https://localhost:8080/"
        },
        "id": "kH1HseRusO9S",
        "outputId": "87ceb7dc-f554-4a70-ab5a-79da8b87387a"
      },
      "execution_count": 7,
      "outputs": [
        {
          "output_type": "stream",
          "name": "stdout",
          "text": [
            "Tipos de dados: \n",
            "Survived    category\n",
            "Pclass      category\n",
            "Name          object\n",
            "Sex           object\n",
            "Age          float64\n",
            "SibSp          int64\n",
            "Parch          int64\n",
            "Fare         float64\n",
            "Cabin         object\n",
            "Embarked      object\n",
            "dtype: object\n",
            "\n",
            "\n",
            "\n",
            "       Survived    Pclass\n",
            "count       891       891\n",
            "unique        2         3\n",
            "top      Morreu  3aClasse\n",
            "freq        549       491\n"
          ]
        }
      ]
    },
    {
      "cell_type": "markdown",
      "source": [
        "## Converter atributo através de processamento de string (usando list comprehension)"
      ],
      "metadata": {
        "id": "901hvtlJzQuE"
      }
    },
    {
      "cell_type": "code",
      "source": [
        "# Exibe valores únicos\n",
        "print(\"Valores únicos do atributo Cabin:\", titanic_train['Cabin'].unique(), sep='\\n')\n",
        "\n",
        "# O campo Cabin está como object, é necessário convertê-lo para string\n",
        "char_cabin = titanic_train['Cabin'].astype(str)\n",
        "\n",
        "# Pega apenas a primeira letra\n",
        "new_cabin = pd.Categorical([cabin[0] for cabin in char_cabin])\n",
        "titanic_train['Cabin'] = new_cabin\n",
        "print('\\nValores únicos do atributo Cabin:', titanic_train['Cabin'].unique(), sep='\\n')"
      ],
      "metadata": {
        "colab": {
          "base_uri": "https://localhost:8080/"
        },
        "id": "-97ePc_nvT2K",
        "outputId": "4f6658c8-6abb-4788-dc1b-1635069e20c8"
      },
      "execution_count": 8,
      "outputs": [
        {
          "output_type": "stream",
          "name": "stdout",
          "text": [
            "Valores únicos do atributo Cabin:\n",
            "[nan 'C85' 'C123' 'E46' 'G6' 'C103' 'D56' 'A6' 'C23 C25 C27' 'B78' 'D33'\n",
            " 'B30' 'C52' 'B28' 'C83' 'F33' 'F G73' 'E31' 'A5' 'D10 D12' 'D26' 'C110'\n",
            " 'B58 B60' 'E101' 'F E69' 'D47' 'B86' 'F2' 'C2' 'E33' 'B19' 'A7' 'C49'\n",
            " 'F4' 'A32' 'B4' 'B80' 'A31' 'D36' 'D15' 'C93' 'C78' 'D35' 'C87' 'B77'\n",
            " 'E67' 'B94' 'C125' 'C99' 'C118' 'D7' 'A19' 'B49' 'D' 'C22 C26' 'C106'\n",
            " 'C65' 'E36' 'C54' 'B57 B59 B63 B66' 'C7' 'E34' 'C32' 'B18' 'C124' 'C91'\n",
            " 'E40' 'T' 'C128' 'D37' 'B35' 'E50' 'C82' 'B96 B98' 'E10' 'E44' 'A34'\n",
            " 'C104' 'C111' 'C92' 'E38' 'D21' 'E12' 'E63' 'A14' 'B37' 'C30' 'D20' 'B79'\n",
            " 'E25' 'D46' 'B73' 'C95' 'B38' 'B39' 'B22' 'C86' 'C70' 'A16' 'C101' 'C68'\n",
            " 'A10' 'E68' 'B41' 'A20' 'D19' 'D50' 'D9' 'A23' 'B50' 'A26' 'D48' 'E58'\n",
            " 'C126' 'B71' 'B51 B53 B55' 'D49' 'B5' 'B20' 'F G63' 'C62 C64' 'E24' 'C90'\n",
            " 'C45' 'E8' 'B101' 'D45' 'C46' 'D30' 'E121' 'D11' 'E77' 'F38' 'B3' 'D6'\n",
            " 'B82 B84' 'D17' 'A36' 'B102' 'B69' 'E49' 'C47' 'D28' 'E17' 'A24' 'C50'\n",
            " 'B42' 'C148']\n",
            "\n",
            "Valores únicos do atributo Cabin:\n",
            "['n', 'C', 'E', 'G', 'D', 'A', 'B', 'F', 'T']\n",
            "Categories (9, object): ['A', 'B', 'C', 'D', ..., 'F', 'G', 'T', 'n']\n"
          ]
        }
      ]
    },
    {
      "cell_type": "markdown",
      "source": [
        "# Valores Omissos ou inconsistentes\n",
        "Em atributos numéricos, as possibilidades são:\n",
        "1. substituir por zeros;\n",
        "2. substituir por um valor médio ou mediano;\n",
        "3. estimar valores usando modelos estatísticos ou preditivos;\n",
        "4. particionar a base em registros completos e registros incompletos.\n",
        "\n",
        "Vamos analisar o atributo *Age* apra tratarmos os valores omissos."
      ],
      "metadata": {
        "id": "bs8nQHQs2GgC"
      }
    },
    {
      "cell_type": "code",
      "source": [
        "titanic_train.hist(\n",
        "    column='Age',   # Coluna a ser plotada\n",
        "    figsize=(9,6),  # Tamanho do gráfico\n",
        "    bins=20         # Número de colunas do histograma\n",
        ")"
      ],
      "metadata": {
        "colab": {
          "base_uri": "https://localhost:8080/",
          "height": 563
        },
        "id": "iojx-_15zrfR",
        "outputId": "dbd2f756-acaf-4b3b-a4db-1333a51ca7f3"
      },
      "execution_count": 9,
      "outputs": [
        {
          "output_type": "execute_result",
          "data": {
            "text/plain": [
              "array([[<Axes: title={'center': 'Age'}>]], dtype=object)"
            ]
          },
          "metadata": {},
          "execution_count": 9
        },
        {
          "output_type": "display_data",
          "data": {
            "text/plain": [
              "<Figure size 900x600 with 1 Axes>"
            ],
            "image/png": "[encoded data removed]"
          },
          "metadata": {}
        }
      ]
    },
    {
      "cell_type": "code",
      "source": [
        "# O dado possui uma distribuição próxima da normal. Vamos usar a mediana apra preencher os valores faltantes.\n",
        "mediana = np.median([ el for el in titanic_train['Age'] if (np.isnan(el) == False) ])\n",
        "\n",
        "new_age = np.where(\n",
        "    titanic_train['Age'].isnull(),  # condição\n",
        "    mediana,                        # valor se verdadeiro\n",
        "    titanic_train['Age']            # valor se falso\n",
        ")\n",
        "\n",
        "titanic_train['Age'] = new_age\n",
        "\n",
        "print('Análise do novo atributo Age:')\n",
        "print(titanic_train['Age'].describe())\n",
        "\n",
        "titanic_train.hist(\n",
        "    column='Age',\n",
        "    figsize=(9,6),\n",
        "    bins=20\n",
        ")"
      ],
      "metadata": {
        "id": "JsnfmEvQ2sld",
        "colab": {
          "base_uri": "https://localhost:8080/",
          "height": 748
        },
        "outputId": "2edd6ff1-1625-4a45-e454-8f40e659eada"
      },
      "execution_count": 11,
      "outputs": [
        {
          "output_type": "stream",
          "name": "stdout",
          "text": [
            "Análise do novo atributo Age:\n",
            "count    891.00\n",
            "mean      29.36\n",
            "std       13.02\n",
            "min        0.42\n",
            "25%       22.00\n",
            "50%       28.00\n",
            "75%       35.00\n",
            "max       80.00\n",
            "Name: Age, dtype: float64\n"
          ]
        },
        {
          "output_type": "execute_result",
          "data": {
            "text/plain": [
              "array([[<Axes: title={'center': 'Age'}>]], dtype=object)"
            ]
          },
          "metadata": {},
          "execution_count": 11
        },
        {
          "output_type": "display_data",
          "data": {
            "text/plain": [
              "<Figure size 900x600 with 1 Axes>"
            ],
            "image/png": "[encoded data removed]"
          },
          "metadata": {}
        }
      ]
    },
    {
      "cell_type": "markdown",
      "source": [
        "# Detectando Outliers"
      ],
      "metadata": {
        "id": "iHaRjcqoCt_k"
      }
    },
    {
      "cell_type": "code",
      "source": [
        "titanic_train['Fare'].plot(kind=\"box\", figsize=(9,9))\n",
        "index = np.where(titanic_train['Fare'] == max(titanic_train['Fare']))\n",
        "print(\"Registros com valores extremos: \", titanic_train.loc[index], sep='\\n')"
      ],
      "metadata": {
        "colab": {
          "base_uri": "https://localhost:8080/",
          "height": 938
        },
        "id": "PhnweX4KBvXu",
        "outputId": "71570046-4ff9-4cf6-b629-48bd65b3708f"
      },
      "execution_count": 13,
      "outputs": [
        {
          "output_type": "stream",
          "name": "stdout",
          "text": [
            "Registros com valores extremos: \n",
            "       Survived    Pclass                                Name     Sex   Age  \\\n",
            "258  Sobrevivel  1aClasse                    Ward, Miss. Anna  female  35.0   \n",
            "679  Sobrevivel  1aClasse  Cardeza, Mr. Thomas Drake Martinez    male  36.0   \n",
            "737  Sobrevivel  1aClasse              Lesurer, Mr. Gustave J    male  35.0   \n",
            "\n",
            "     SibSp  Parch    Fare Cabin Embarked  \n",
            "258      0      0  512.33     n        C  \n",
            "679      0      1  512.33     B        C  \n",
            "737      0      0  512.33     B        C  \n"
          ]
        },
        {
          "output_type": "display_data",
          "data": {
            "text/plain": [
              "<Figure size 900x900 with 1 Axes>"
            ],
            "image/png": "[encoded data removed]"
          },
          "metadata": {}
        }
      ]
    },
    {
      "cell_type": "markdown",
      "source": [
        "# Criando novos atributos"
      ],
      "metadata": {
        "id": "CRVpEQkmEJ7q"
      }
    },
    {
      "cell_type": "code",
      "source": [
        "titanic_train['Family'] = titanic_train['SibSp'] + titanic_train['Parch']\n",
        "\n",
        "# Encontrando quem tem a maior família à bordo\n",
        "most_family = np.where(titanic_train['Family'] == max(titanic_train['Family']))\n",
        "print('As maiores famílias à bordo: \\n{0}'.format(titanic_train.loc[most_family]))"
      ],
      "metadata": {
        "colab": {
          "base_uri": "https://localhost:8080/"
        },
        "id": "VyEqx8kBDJ4H",
        "outputId": "6d6795a8-1d26-4a5d-8033-d75a5c84482e"
      },
      "execution_count": 16,
      "outputs": [
        {
          "output_type": "stream",
          "name": "stdout",
          "text": [
            "As maiores famílias à bordo: \n",
            "    Survived    Pclass                               Name     Sex   Age  \\\n",
            "159   Morreu  3aClasse         Sage, Master. Thomas Henry    male  28.0   \n",
            "180   Morreu  3aClasse       Sage, Miss. Constance Gladys  female  28.0   \n",
            "201   Morreu  3aClasse                Sage, Mr. Frederick    male  28.0   \n",
            "324   Morreu  3aClasse           Sage, Mr. George John Jr    male  28.0   \n",
            "792   Morreu  3aClasse            Sage, Miss. Stella Anna  female  28.0   \n",
            "846   Morreu  3aClasse           Sage, Mr. Douglas Bullen    male  28.0   \n",
            "863   Morreu  3aClasse  Sage, Miss. Dorothy Edith \"Dolly\"  female  28.0   \n",
            "\n",
            "     SibSp  Parch   Fare Cabin Embarked  Family  \n",
            "159      8      2  69.55     n        S      10  \n",
            "180      8      2  69.55     n        S      10  \n",
            "201      8      2  69.55     n        S      10  \n",
            "324      8      2  69.55     n        S      10  \n",
            "792      8      2  69.55     n        S      10  \n",
            "846      8      2  69.55     n        S      10  \n",
            "863      8      2  69.55     n        S      10  \n"
          ]
        }
      ]
    },
    {
      "cell_type": "markdown",
      "source": [
        "Os atributos agora estão redundantes, ou muito correlacionados, como podemos ver com a matriz de correlação.\n",
        "A matriz só funciona com tipos de dados numéricos. Será possível perceber que a variável Family terá forte correção (acima de 0.75) com SibSp e Parch.\n"
      ],
      "metadata": {
        "id": "N4AjwlxlFLtx"
      }
    },
    {
      "cell_type": "code",
      "source": [
        "int_fields = titanic_train.dtypes[titanic_train.dtypes == \"int64\"].index\n",
        "corr = np.corrcoef(titanic_train[int_fields].transpose())\n",
        "correlacao = pd.DataFrame(data=corr, index=int_fields, columns=int_fields)\n",
        "print('Matriz de correlação dos atributos inteiros: \\n{0}'.format(correlacao))"
      ],
      "metadata": {
        "colab": {
          "base_uri": "https://localhost:8080/"
        },
        "id": "pYbhsZw0Ei4i",
        "outputId": "931bf2c7-566d-4a58-ce3c-224e2c8f9afd"
      },
      "execution_count": 24,
      "outputs": [
        {
          "output_type": "stream",
          "name": "stdout",
          "text": [
            "Matriz de correlação dos atributos inteiros: \n",
            "        SibSp  Parch  Family\n",
            "SibSp    1.00   0.41    0.89\n",
            "Parch    0.41   1.00    0.78\n",
            "Family   0.89   0.78    1.00\n"
          ]
        }
      ]
    },
    {
      "cell_type": "markdown",
      "source": [],
      "metadata": {
        "id": "6hbpxTc_Gd8_"
      }
    },
    {
      "cell_type": "code",
      "source": [],
      "metadata": {
        "colab": {
          "base_uri": "https://localhost:8080/",
          "height": 73
        },
        "id": "CL7OFhqYE2Ev",
        "outputId": "17585cf0-1927-46da-8d46-4d43a8d57f79"
      },
      "execution_count": 1,
      "outputs": [
        {
          "output_type": "display_data",
          "data": {
            "text/plain": [
              "<IPython.core.display.HTML object>"
            ],
            "text/html": [
              "\n",
              "     <input type=\"file\" id=\"files-655299bc-3db2-41f6-b44b-9c246a6a8927\" name=\"files[]\" multiple disabled\n",
              "        style=\"border:none\" />\n",
              "     <output id=\"result-655299bc-3db2-41f6-b44b-9c246a6a8927\">\n",
              "      Upload widget is only available when the cell has been executed in the\n",
              "      current browser session. Please rerun this cell to enable.\n",
              "      </output>\n",
              "      <script>// Copyright 2017 Google LLC\n",
              "//\n",
              "// Licensed under the Apache License, Version 2.0 (the \"License\");\n",
              "// you may not use this file except in compliance with the License.\n",
              "// You may obtain a copy of the License at\n",
              "//\n",
              "//      http://www.apache.org/licenses/LICENSE-2.0\n",
              "//\n",
              "// Unless required by applicable law or agreed to in writing, software\n",
              "// distributed under the License is distributed on an \"AS IS\" BASIS,\n",
              "// WITHOUT WARRANTIES OR CONDITIONS OF ANY KIND, either express or implied.\n",
              "// See the License for the specific language governing permissions and\n",
              "// limitations under the License.\n",
              "\n",
              "/**\n",
              " * @fileoverview Helpers for google.colab Python module.\n",
              " */\n",
              "(function(scope) {\n",
              "function span(text, styleAttributes = {}) {\n",
              "  const element = document.createElement('span');\n",
              "  element.textContent = text;\n",
              "  for (const key of Object.keys(styleAttributes)) {\n",
              "    element.style[key] = styleAttributes[key];\n",
              "  }\n",
              "  return element;\n",
              "}\n",
              "\n",
              "// Max number of bytes which will be uploaded at a time.\n",
              "const MAX_PAYLOAD_SIZE = 100 * 1024;\n",
              "\n",
              "function _uploadFiles(inputId, outputId) {\n",
              "  const steps = uploadFilesStep(inputId, outputId);\n",
              "  const outputElement = document.getElementById(outputId);\n",
              "  // Cache steps on the outputElement to make it available for the next call\n",
              "  // to uploadFilesContinue from Python.\n",
              "  outputElement.steps = steps;\n",
              "\n",
              "  return _uploadFilesContinue(outputId);\n",
              "}\n",
              "\n",
              "// This is roughly an async generator (not supported in the browser yet),\n",
              "// where there are multiple asynchronous steps and the Python side is going\n",
              "// to poll for completion of each step.\n",
              "// This uses a Promise to block the python side on completion of each step,\n",
              "// then passes the result of the previous step as the input to the next step.\n",
              "function _uploadFilesContinue(outputId) {\n",
              "  const outputElement = document.getElementById(outputId);\n",
              "  const steps = outputElement.steps;\n",
              "\n",
              "  const next = steps.next(outputElement.lastPromiseValue);\n",
              "  return Promise.resolve(next.value.promise).then((value) => {\n",
              "    // Cache the last promise value to make it available to the next\n",
              "    // step of the generator.\n",
              "    outputElement.lastPromiseValue = value;\n",
              "    return next.value.response;\n",
              "  });\n",
              "}\n",
              "\n",
              "/**\n",
              " * Generator function which is called between each async step of the upload\n",
              " * process.\n",
              " * @param {string} inputId Element ID of the input file picker element.\n",
              " * @param {string} outputId Element ID of the output display.\n",
              " * @return {!Iterable<!Object>} Iterable of next steps.\n",
              " */\n",
              "function* uploadFilesStep(inputId, outputId) {\n",
              "  const inputElement = document.getElementById(inputId);\n",
              "  inputElement.disabled = false;\n",
              "\n",
              "  const outputElement = document.getElementById(outputId);\n",
              "  outputElement.innerHTML = '';\n",
              "\n",
              "  const pickedPromise = new Promise((resolve) => {\n",
              "    inputElement.addEventListener('change', (e) => {\n",
              "      resolve(e.target.files);\n",
              "    });\n",
              "  });\n",
              "\n",
              "  const cancel = document.createElement('button');\n",
              "  inputElement.parentElement.appendChild(cancel);\n",
              "  cancel.textContent = 'Cancel upload';\n",
              "  const cancelPromise = new Promise((resolve) => {\n",
              "    cancel.onclick = () => {\n",
              "      resolve(null);\n",
              "    };\n",
              "  });\n",
              "\n",
              "  // Wait for the user to pick the files.\n",
              "  const files = yield {\n",
              "    promise: Promise.race([pickedPromise, cancelPromise]),\n",
              "    response: {\n",
              "      action: 'starting',\n",
              "    }\n",
              "  };\n",
              "\n",
              "  cancel.remove();\n",
              "\n",
              "  // Disable the input element since further picks are not allowed.\n",
              "  inputElement.disabled = true;\n",
              "\n",
              "  if (!files) {\n",
              "    return {\n",
              "      response: {\n",
              "        action: 'complete',\n",
              "      }\n",
              "    };\n",
              "  }\n",
              "\n",
              "  for (const file of files) {\n",
              "    const li = document.createElement('li');\n",
              "    li.append(span(file.name, {fontWeight: 'bold'}));\n",
              "    li.append(span(\n",
              "        `(${file.type || 'n/a'}) - ${file.size} bytes, ` +\n",
              "        `last modified: ${\n",
              "            file.lastModifiedDate ? file.lastModifiedDate.toLocaleDateString() :\n",
              "                                    'n/a'} - `));\n",
              "    const percent = span('0% done');\n",
              "    li.appendChild(percent);\n",
              "\n",
              "    outputElement.appendChild(li);\n",
              "\n",
              "    const fileDataPromise = new Promise((resolve) => {\n",
              "      const reader = new FileReader();\n",
              "      reader.onload = (e) => {\n",
              "        resolve(e.target.result);\n",
              "      };\n",
              "      reader.readAsArrayBuffer(file);\n",
              "    });\n",
              "    // Wait for the data to be ready.\n",
              "    let fileData = yield {\n",
              "      promise: fileDataPromise,\n",
              "      response: {\n",
              "        action: 'continue',\n",
              "      }\n",
              "    };\n",
              "\n",
              "    // Use a chunked sending to avoid message size limits. See b/62115660.\n",
              "    let position = 0;\n",
              "    do {\n",
              "      const length = Math.min(fileData.byteLength - position, MAX_PAYLOAD_SIZE);\n",
              "      const chunk = new Uint8Array(fileData, position, length);\n",
              "      position += length;\n",
              "\n",
              "      const base64 = btoa(String.fromCharCode.apply(null, chunk));\n",
              "      yield {\n",
              "        response: {\n",
              "          action: 'append',\n",
              "          file: file.name,\n",
              "          data: base64,\n",
              "        },\n",
              "      };\n",
              "\n",
              "      let percentDone = fileData.byteLength === 0 ?\n",
              "          100 :\n",
              "          Math.round((position / fileData.byteLength) * 100);\n",
              "      percent.textContent = `${percentDone}% done`;\n",
              "\n",
              "    } while (position < fileData.byteLength);\n",
              "  }\n",
              "\n",
              "  // All done.\n",
              "  yield {\n",
              "    response: {\n",
              "      action: 'complete',\n",
              "    }\n",
              "  };\n",
              "}\n",
              "\n",
              "scope.google = scope.google || {};\n",
              "scope.google.colab = scope.google.colab || {};\n",
              "scope.google.colab._files = {\n",
              "  _uploadFiles,\n",
              "  _uploadFilesContinue,\n",
              "};\n",
              "})(self);\n",
              "</script> "
            ]
          },
          "metadata": {}
        },
        {
          "output_type": "stream",
          "name": "stdout",
          "text": [
            "Saving Gazola_dados_apartamento_resumo.xls to Gazola_dados_apartamento_resumo (1).xls\n"
          ]
        }
      ]
    },
    {
      "cell_type": "code",
      "source": [],
      "metadata": {
        "id": "HoqyFC_lGxfk"
      },
      "execution_count": null,
      "outputs": []
    }
  ]
}