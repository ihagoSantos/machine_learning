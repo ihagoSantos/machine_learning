{
  "nbformat": 4,
  "nbformat_minor": 0,
  "metadata": {
    "colab": {
      "provenance": [],
      "authorship_tag": "ABX9TyM3C6I8qlXsvXIs+prGhakr",
      "include_colab_link": true
    },
    "kernelspec": {
      "name": "python3",
      "display_name": "Python 3"
    },
    "language_info": {
      "name": "python"
    }
  },
  "cells": [
    {
      "cell_type": "markdown",
      "metadata": {
        "id": "view-in-github",
        "colab_type": "text"
      },
      "source": [
        "<a href=\"https://colab.research.google.com/github/ihagoSantos/machine_learning/blob/main/naive_bayes_continuous_attributes_iris_data.ipynb\" target=\"_parent\"><img src=\"https://colab.research.google.com/assets/colab-badge.svg\" alt=\"Open In Colab\"/></a>"
      ]
    },
    {
      "cell_type": "markdown",
      "source": [
        "# Importação de bibliotecas"
      ],
      "metadata": {
        "id": "qPTbURmpmgPX"
      }
    },
    {
      "cell_type": "code",
      "execution_count": 1,
      "metadata": {
        "id": "BO5ur2QdmHJN"
      },
      "outputs": [],
      "source": [
        "import pandas as pd\n",
        "from sklearn.datasets import load_iris\n",
        "from sklearn.model_selection import train_test_split\n",
        "from sklearn.naive_bayes import GaussianNB\n",
        "from sklearn.metrics import confusion_matrix, classification_report"
      ]
    },
    {
      "cell_type": "markdown",
      "source": [
        "# Carregamento e Separação da base"
      ],
      "metadata": {
        "id": "Z5k2OfcCmk6m"
      }
    },
    {
      "cell_type": "code",
      "source": [
        "iris = load_iris()\n",
        "\n",
        "X_train, X_test, y_train, y_test = train_test_split(iris.data, iris.target, random_state=0)"
      ],
      "metadata": {
        "id": "UoXley_PmcGE"
      },
      "execution_count": 2,
      "outputs": []
    },
    {
      "cell_type": "markdown",
      "source": [
        "# Indução do modelo Gaussian Naive Bayes\n",
        "\n",
        "O Gaussian Naive Bayes é o algoritmo capaz de induzir um modelo a partir de dados numéricos. \\\n",
        "\n",
        "Os três passos para indução de um modelo são:\n",
        "1. Instanciar o modelo: GaussianNB()\n",
        "2. Treinar o modelo: fit()\n",
        "3. Testar o modelo: predict()"
      ],
      "metadata": {
        "id": "_Hu_ItZxmyp-"
      }
    },
    {
      "cell_type": "markdown",
      "source": [
        "## Instanciar o modelo"
      ],
      "metadata": {
        "id": "k-fwhqifnLvM"
      }
    },
    {
      "cell_type": "code",
      "source": [
        "gnb = GaussianNB()"
      ],
      "metadata": {
        "id": "tGCjRbIpmwck"
      },
      "execution_count": 3,
      "outputs": []
    },
    {
      "cell_type": "markdown",
      "source": [
        "## Treinar o modelo"
      ],
      "metadata": {
        "id": "lya0bLUcnQZM"
      }
    },
    {
      "cell_type": "code",
      "source": [
        "gnb = gnb.fit(X_train, y_train)"
      ],
      "metadata": {
        "id": "MYt5uOFunPoO"
      },
      "execution_count": 4,
      "outputs": []
    },
    {
      "cell_type": "markdown",
      "source": [
        "## Testar o modelo"
      ],
      "metadata": {
        "id": "iX_alELVndOd"
      }
    },
    {
      "cell_type": "code",
      "source": [
        "y_pred = gnb.predict(X_test)"
      ],
      "metadata": {
        "id": "bYxWqnWBncXR"
      },
      "execution_count": 11,
      "outputs": []
    },
    {
      "cell_type": "markdown",
      "source": [
        "## Avaliação do modelo"
      ],
      "metadata": {
        "id": "sXvKNSYwofM7"
      }
    },
    {
      "cell_type": "code",
      "source": [
        "print(\"Número de erros de classificação {0} de {1}\".format((y_test != y_pred).sum(), iris.data.shape[0]))\n",
        "\n",
        "accuracy = gnb.score(X_test, y_test)\n",
        "print(\"Acurácia do modelo: {0:.2f}%\".format(100*accuracy))\n",
        "\n",
        "print(classification_report(y_test, y_pred, target_names=iris.target_names))\n",
        "\n",
        "cnf_matrix = confusion_matrix(y_test, y_pred)\n",
        "cnf_table = pd.DataFrame(data=cnf_matrix, index=iris.target_names, columns=[x + \"(pred)\" for x in iris.target_names])\n",
        "print(cnf_table)"
      ],
      "metadata": {
        "colab": {
          "base_uri": "https://localhost:8080/"
        },
        "id": "nBnYaUp5nw_e",
        "outputId": "e6a78c8a-294f-4ed1-eadb-c43c1d67ae18"
      },
      "execution_count": 14,
      "outputs": [
        {
          "output_type": "stream",
          "name": "stdout",
          "text": [
            "Número de erros de classificação 0 de 150\n",
            "Acurácia do modelo: 100.00%\n",
            "              precision    recall  f1-score   support\n",
            "\n",
            "      setosa       1.00      1.00      1.00        13\n",
            "  versicolor       1.00      1.00      1.00        16\n",
            "   virginica       1.00      1.00      1.00         9\n",
            "\n",
            "    accuracy                           1.00        38\n",
            "   macro avg       1.00      1.00      1.00        38\n",
            "weighted avg       1.00      1.00      1.00        38\n",
            "\n",
            "            setosa(pred)  versicolor(pred)  virginica(pred)\n",
            "setosa                13                 0                0\n",
            "versicolor             0                16                0\n",
            "virginica              0                 0                9\n"
          ]
        }
      ]
    },
    {
      "cell_type": "code",
      "source": [],
      "metadata": {
        "colab": {
          "base_uri": "https://localhost:8080/"
        },
        "id": "CI7lSanrn2lz",
        "outputId": "de48d256-499a-4d3e-b467-aa5f9204e00b"
      },
      "execution_count": 10,
      "outputs": [
        {
          "output_type": "stream",
          "name": "stdout",
          "text": [
            "              precision    recall  f1-score   support\n",
            "\n",
            "      setosa       1.00      1.00      1.00        13\n",
            "  versicolor       1.00      1.00      1.00        16\n",
            "   virginica       1.00      1.00      1.00         9\n",
            "\n",
            "    accuracy                           1.00        38\n",
            "   macro avg       1.00      1.00      1.00        38\n",
            "weighted avg       1.00      1.00      1.00        38\n",
            "\n"
          ]
        }
      ]
    },
    {
      "cell_type": "code",
      "source": [],
      "metadata": {
        "id": "QuJjt3q4oQCr"
      },
      "execution_count": null,
      "outputs": []
    }
  ]
}